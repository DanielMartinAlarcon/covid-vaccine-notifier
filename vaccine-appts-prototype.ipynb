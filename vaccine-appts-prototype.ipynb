{
 "cells": [
  {
   "cell_type": "code",
   "execution_count": 78,
   "id": "regional-belief",
   "metadata": {
    "execution": {
     "iopub.execute_input": "2021-04-08T15:58:38.283029Z",
     "iopub.status.busy": "2021-04-08T15:58:38.282775Z",
     "iopub.status.idle": "2021-04-08T15:58:38.287044Z",
     "shell.execute_reply": "2021-04-08T15:58:38.286308Z",
     "shell.execute_reply.started": "2021-04-08T15:58:38.283003Z"
    }
   },
   "outputs": [],
   "source": [
    "import requests\n",
    "import pandas as pd\n",
    "import numpy as np\n",
    "import json\n",
    "import haversine\n",
    "import datetime\n",
    "from haversine import Unit\n",
    "\n",
    "from prefect import task, Flow, Parameter, case\n",
    "from prefect.tasks.notifications.email_task import EmailTask\n",
    "from prefect.schedules import IntervalSchedule"
   ]
  },
  {
   "cell_type": "code",
   "execution_count": 79,
   "id": "center-raising",
   "metadata": {
    "execution": {
     "iopub.execute_input": "2021-04-08T15:58:39.085585Z",
     "iopub.status.busy": "2021-04-08T15:58:39.085338Z",
     "iopub.status.idle": "2021-04-08T15:58:39.088983Z",
     "shell.execute_reply": "2021-04-08T15:58:39.088067Z",
     "shell.execute_reply.started": "2021-04-08T15:58:39.085559Z"
    }
   },
   "outputs": [],
   "source": [
    "ENDPOINT = 'https://www.vaccinespotter.org/api/v0/states'"
   ]
  },
  {
   "cell_type": "code",
   "execution_count": 80,
   "id": "commercial-scotland",
   "metadata": {
    "execution": {
     "iopub.execute_input": "2021-04-08T15:58:41.973016Z",
     "iopub.status.busy": "2021-04-08T15:58:41.972758Z",
     "iopub.status.idle": "2021-04-08T15:58:41.985755Z",
     "shell.execute_reply": "2021-04-08T15:58:41.984896Z",
     "shell.execute_reply.started": "2021-04-08T15:58:41.972992Z"
    }
   },
   "outputs": [],
   "source": [
    "@task\n",
    "def load_data(state):\n",
    "    json_payload = requests.get(f'{ENDPOINT}/{state}.json')\n",
    "    data = json.loads(json_payload.content)\n",
    "    df = pd.DataFrame([x['properties'] for x in data['features']])\n",
    "    df['coordinates'] = [(x['geometry']['coordinates'][1], x['geometry']['coordinates'][0]) for x in data['features']]\n",
    "    df['appointments_last_fetched'] = pd.to_datetime(data['metadata']['appointments_last_fetched'])\n",
    "    df['as_of_time'] = df.appointments_last_fetched.dt.tz_convert('US/Eastern').dt.strftime('%B %d, %Y, %I:%M %p')\n",
    "    return df\n",
    "\n",
    "\n",
    "@task\n",
    "def available_appts(df, current_coords, distance_miles=None, filters=None):\n",
    "    close_df = df[df.appointments_available == True]\n",
    "    close_df['distance_miles'] = close_df['coordinates'].apply(\n",
    "        lambda x: haversine.haversine(x, current_coords, unit=Unit.MILES)\n",
    "    )\n",
    "    \n",
    "    if distance_miles:\n",
    "        close_df = close_df[(close_df.distance_miles <= distance_miles)]\n",
    "        \n",
    "    if filters:\n",
    "        for k, v in filters.items():\n",
    "            close_df = close_df[close_df[k] == v]\n",
    "    \n",
    "    return close_df\n",
    "\n",
    "\n",
    "@task\n",
    "def is_appt_avail(avail_df):\n",
    "    return len(avail_df) > 0\n",
    "\n",
    "\n",
    "@task\n",
    "def notification_email(avail_df, current_coords, distance_miles=None, filters=None):\n",
    "    def format_appt(x):\n",
    "        time_df = pd.DataFrame(avail_df.appointments.iloc[0])\n",
    "        time_df['time'] = pd.to_datetime(time_df['time'])\n",
    "        time_df['time_formatted'] = time_df['time'].dt.strftime('%B %d, %Y, %I:%M %p')\n",
    "        time_df['appt_formatted'] = time_df.agg(\n",
    "            lambda x: f'{x.time_formatted} ({x.type})' if 'type' in x else x.time_formatted, \n",
    "            axis=1,\n",
    "        )\n",
    "        time_df['appt_formatted'] = '<li>' + time_df['appt_formatted'] + '</li>'\n",
    "        return ''.join(time_df['appt_formatted'].values)\n",
    "\n",
    "    avail_df = avail_df.fillna({'provider': '', 'address': '', 'city': '', 'state': '', 'postal_code': ''})\n",
    "    avail_df['appointments_html'] = '<ul>' + avail_df.appointments.apply(format_appt) + '</ul>'\n",
    "    avail_df['html'] = (\n",
    "        '<h2>' + \n",
    "        avail_df.provider + ' - ' + \n",
    "        avail_df.address + ', ' + \n",
    "        avail_df.city + ', ' + \n",
    "        avail_df.state + ', ' +\n",
    "        avail_df.postal_code + ' (' + \n",
    "        np.round(avail_df.distance_miles).astype(str) + ' miles)' + \n",
    "        '</h2>' + \n",
    "        avail_df.appointments_html\n",
    "    )\n",
    "    email_content = f'Date appointments pulled: {avail_df.as_of_time.iloc[0]}'\n",
    "    email_subject = f'COVID-19 Vaccine Appointments near {current_coords}'\n",
    "    if distance_miles:\n",
    "        email_content += f'<h1> Within {distance_miles} miles of {current_coords}</h1>'\n",
    "    if filters:\n",
    "        email_content += f'<h2>Filters:</h2> <p>{filters}</p>'\n",
    "    email_content += ''.join(avail_df.html.values)\n",
    "    \n",
    "    return (email_subject, email_content)\n",
    "\n",
    "email_task = EmailTask(email_from='rikturr@gmail.com')"
   ]
  },
  {
   "cell_type": "code",
   "execution_count": 81,
   "id": "conscious-powder",
   "metadata": {
    "execution": {
     "iopub.execute_input": "2021-04-08T15:58:48.391809Z",
     "iopub.status.busy": "2021-04-08T15:58:48.391551Z",
     "iopub.status.idle": "2021-04-08T15:58:48.612766Z",
     "shell.execute_reply": "2021-04-08T15:58:48.612052Z",
     "shell.execute_reply.started": "2021-04-08T15:58:48.391782Z"
    }
   },
   "outputs": [],
   "source": [
    "df = load_data.run('FL')"
   ]
  },
  {
   "cell_type": "code",
   "execution_count": 85,
   "id": "closed-promotion",
   "metadata": {
    "execution": {
     "iopub.execute_input": "2021-04-08T16:06:13.803552Z",
     "iopub.status.busy": "2021-04-08T16:06:13.803272Z",
     "iopub.status.idle": "2021-04-08T16:06:13.815036Z",
     "shell.execute_reply": "2021-04-08T16:06:13.814297Z",
     "shell.execute_reply.started": "2021-04-08T16:06:13.803524Z"
    }
   },
   "outputs": [],
   "source": [
    "schedule = IntervalSchedule(interval=datetime.timedelta(minutes=10))\n",
    "\n",
    "with Flow('covid-vaccine-appt-notifier', schedule) as flow:\n",
    "    state = Parameter('state')\n",
    "    current_coords = Parameter('current_coords')\n",
    "    distance_miles = Parameter('distance_miles')\n",
    "    filters = Parameter('filters')\n",
    "    email_to = Parameter('email_to')\n",
    "    \n",
    "    df = load_data(state)\n",
    "    avail_df = available_appts(df, current_coords, distance_miles, filters)\n",
    "    \n",
    "    with case(is_appt_avail(avail_df), True):\n",
    "        email_subject_content = notification_email(avail_df, current_coords, distance_miles, filters)\n",
    "        email_task(email_to=email_to, subject=email_subject_content[0], msg=email_subject_content[1])"
   ]
  },
  {
   "cell_type": "code",
   "execution_count": 86,
   "id": "upper-glance",
   "metadata": {
    "execution": {
     "iopub.execute_input": "2021-04-08T16:06:13.990707Z",
     "iopub.status.busy": "2021-04-08T16:06:13.990454Z",
     "iopub.status.idle": "2021-04-08T16:06:13.994479Z",
     "shell.execute_reply": "2021-04-08T16:06:13.993558Z",
     "shell.execute_reply.started": "2021-04-08T16:06:13.990678Z"
    }
   },
   "outputs": [],
   "source": [
    "state = # 'FL'\n",
    "current_coords = # [lat, lon]\n",
    "distance_miles = 100\n",
    "filters = {}\n",
    "email_to = # ''"
   ]
  },
  {
   "cell_type": "code",
   "execution_count": null,
   "id": "serious-thumb",
   "metadata": {},
   "outputs": [],
   "source": [
    "flow.run(\n",
    "    parameters={\n",
    "        'state': state,\n",
    "        'current_coords': current_coords,\n",
    "        'distance_miles': distance_miles,\n",
    "        'filters': filters,\n",
    "        'email_to': email_to,\n",
    "    }\n",
    ")"
   ]
  }
 ],
 "metadata": {
  "kernelspec": {
   "display_name": "saturn (Python 3)",
   "language": "python",
   "name": "python3"
  },
  "language_info": {
   "codemirror_mode": {
    "name": "ipython",
    "version": 3
   },
   "file_extension": ".py",
   "mimetype": "text/x-python",
   "name": "python",
   "nbconvert_exporter": "python",
   "pygments_lexer": "ipython3",
   "version": "3.7.10"
  }
 },
 "nbformat": 4,
 "nbformat_minor": 5
}
